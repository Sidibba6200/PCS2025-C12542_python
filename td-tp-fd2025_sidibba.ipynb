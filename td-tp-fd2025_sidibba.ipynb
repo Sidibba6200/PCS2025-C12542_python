{
 "cells": [
  {
   "cell_type": "markdown",
   "metadata": {},
   "source": [
    "# Exercice 1.1 : Fonction de moyenne"
   ]
  },
  {
   "cell_type": "code",
   "execution_count": 1,
   "metadata": {
    "_cell_guid": "b1076dfc-b9ad-4769-8c92-a6c4dae69d19",
    "_uuid": "8f2839f25d086af736a60e9eeb907d3b93b6e0e5"
   },
   "outputs": [],
   "source": [
    "def calcul_moyenne(donnees: list[float]) -> float:\n",
    "  \n",
    "\n",
    "    return sum(donnees) / len(donnees)"
   ]
  },
  {
   "cell_type": "code",
   "execution_count": 2,
   "metadata": {},
   "outputs": [
    {
     "data": {
      "text/plain": [
       "4.666666666666667"
      ]
     },
     "execution_count": 2,
     "metadata": {},
     "output_type": "execute_result"
    }
   ],
   "source": [
    "calcul_moyenne([5.0, 3.0, 6.0])"
   ]
  },
  {
   "cell_type": "markdown",
   "metadata": {},
   "source": [
    "# Exercice 1.2 : Gestion d’une liste vide"
   ]
  },
  {
   "cell_type": "code",
   "execution_count": 6,
   "metadata": {
    "execution": {
     "iopub.execute_input": "2025-06-02T00:48:45.087861Z",
     "iopub.status.busy": "2025-06-02T00:48:45.087143Z",
     "iopub.status.idle": "2025-06-02T00:48:45.110435Z",
     "shell.execute_reply": "2025-06-02T00:48:45.109219Z",
     "shell.execute_reply.started": "2025-06-02T00:48:45.087821Z"
    }
   },
   "outputs": [],
   "source": [
    "def calcul_moyenne(donnees: list[float]) -> float | None:\n",
    "   \n",
    "    if len(donnees) == 0:\n",
    "        print( 'None')\n",
    "        return None\n",
    "        \n",
    "    return sum(donnees) / len(donnees)"
   ]
  },
  {
   "cell_type": "code",
   "execution_count": 7,
   "metadata": {
    "execution": {
     "iopub.execute_input": "2025-06-02T00:48:45.111972Z",
     "iopub.status.busy": "2025-06-02T00:48:45.111616Z",
     "iopub.status.idle": "2025-06-02T00:48:45.131053Z",
     "shell.execute_reply": "2025-06-02T00:48:45.130103Z",
     "shell.execute_reply.started": "2025-06-02T00:48:45.111939Z"
    }
   },
   "outputs": [
    {
     "name": "stdout",
     "output_type": "stream",
     "text": [
      "None\n"
     ]
    }
   ],
   "source": [
    "calcul_moyenne([])"
   ]
  },
  {
   "cell_type": "code",
   "execution_count": 9,
   "metadata": {
    "execution": {
     "iopub.execute_input": "2025-06-02T00:48:45.152435Z",
     "iopub.status.busy": "2025-06-02T00:48:45.152193Z",
     "iopub.status.idle": "2025-06-02T00:48:45.173128Z",
     "shell.execute_reply": "2025-06-02T00:48:45.172002Z",
     "shell.execute_reply.started": "2025-06-02T00:48:45.152409Z"
    }
   },
   "outputs": [],
   "source": [
    "def calcul_moyenne(donnees: list[float]) -> float | None:\n",
    "   \n",
    "    if not donnees:\n",
    "        return None\n",
    "        \n",
    "    return sum(donnees) / len(donnees)"
   ]
  },
  {
   "cell_type": "code",
   "execution_count": 10,
   "metadata": {
    "execution": {
     "iopub.execute_input": "2025-06-02T00:48:45.174465Z",
     "iopub.status.busy": "2025-06-02T00:48:45.174136Z",
     "iopub.status.idle": "2025-06-02T00:48:45.191256Z",
     "shell.execute_reply": "2025-06-02T00:48:45.190263Z",
     "shell.execute_reply.started": "2025-06-02T00:48:45.174437Z"
    }
   },
   "outputs": [
    {
     "name": "stdout",
     "output_type": "stream",
     "text": [
      "None\n"
     ]
    }
   ],
   "source": [
    "print(calcul_moyenne([]) )"
   ]
  },
  {
   "cell_type": "markdown",
   "metadata": {},
   "source": [
    "# Exercice 1.3 : Analyse de données génomiques"
   ]
  },
  {
   "cell_type": "code",
   "execution_count": 11,
   "metadata": {
    "execution": {
     "iopub.execute_input": "2025-06-02T00:48:45.192925Z",
     "iopub.status.busy": "2025-06-02T00:48:45.192220Z",
     "iopub.status.idle": "2025-06-02T00:48:45.211538Z",
     "shell.execute_reply": "2025-06-02T00:48:45.210629Z",
     "shell.execute_reply.started": "2025-06-02T00:48:45.192883Z"
    }
   },
   "outputs": [],
   "source": [
    "def gene_plus_exprime(expressions: dict[str, int]) -> str | None:\n",
    "\n",
    "    if not expressions:\n",
    "        return None\n",
    "        \n",
    "    gene_max = None\n",
    "    expression_max = float('-inf')\n",
    "    \n",
    "    for gene, niveau_gene in expressions.items():\n",
    "        if niveau_gene > expression_max:\n",
    "            gene_max = gene\n",
    "            expression_max = niveau_gene\n",
    "            \n",
    "    return gene_max"
   ]
  },
  {
   "cell_type": "markdown",
   "metadata": {},
   "source": [
    "**Test**"
   ]
  },
  {
   "cell_type": "code",
   "execution_count": 12,
   "metadata": {
    "execution": {
     "iopub.execute_input": "2025-06-02T00:48:45.212992Z",
     "iopub.status.busy": "2025-06-02T00:48:45.212611Z",
     "iopub.status.idle": "2025-06-02T00:48:45.230996Z",
     "shell.execute_reply": "2025-06-02T00:48:45.229674Z",
     "shell.execute_reply.started": "2025-06-02T00:48:45.212969Z"
    }
   },
   "outputs": [
    {
     "name": "stdout",
     "output_type": "stream",
     "text": [
      "BRCA1\n"
     ]
    }
   ],
   "source": [
    "donnees = {\"BRCA1\": 5200, \"TP53\": 3400, \"EGFR\": 4100}\n",
    "resultat = gene_plus_exprime(donnees)\n",
    "print(resultat)"
   ]
  },
  {
   "cell_type": "markdown",
   "metadata": {},
   "source": [
    "# Exercice 1.6 : Création de tenseurs de base"
   ]
  },
  {
   "cell_type": "code",
   "execution_count": 13,
   "metadata": {
    "execution": {
     "iopub.execute_input": "2025-06-02T00:48:45.232130Z",
     "iopub.status.busy": "2025-06-02T00:48:45.231840Z",
     "iopub.status.idle": "2025-06-02T00:48:50.690243Z",
     "shell.execute_reply": "2025-06-02T00:48:50.689125Z",
     "shell.execute_reply.started": "2025-06-02T00:48:45.232078Z"
    }
   },
   "outputs": [
    {
     "name": "stdout",
     "output_type": "stream",
     "text": [
      "Requirement already satisfied: tensorflow in /usr/local/lib/python3.11/dist-packages (2.18.0)\n",
      "Requirement already satisfied: absl-py>=1.0.0 in /usr/local/lib/python3.11/dist-packages (from tensorflow) (1.4.0)\n",
      "Requirement already satisfied: astunparse>=1.6.0 in /usr/local/lib/python3.11/dist-packages (from tensorflow) (1.6.3)\n",
      "Requirement already satisfied: flatbuffers>=24.3.25 in /usr/local/lib/python3.11/dist-packages (from tensorflow) (25.2.10)\n",
      "Requirement already satisfied: gast!=0.5.0,!=0.5.1,!=0.5.2,>=0.2.1 in /usr/local/lib/python3.11/dist-packages (from tensorflow) (0.6.0)\n",
      "Requirement already satisfied: google-pasta>=0.1.1 in /usr/local/lib/python3.11/dist-packages (from tensorflow) (0.2.0)\n",
      "Requirement already satisfied: libclang>=13.0.0 in /usr/local/lib/python3.11/dist-packages (from tensorflow) (18.1.1)\n",
      "Requirement already satisfied: opt-einsum>=2.3.2 in /usr/local/lib/python3.11/dist-packages (from tensorflow) (3.4.0)\n",
      "Requirement already satisfied: packaging in /usr/local/lib/python3.11/dist-packages (from tensorflow) (25.0)\n",
      "Requirement already satisfied: protobuf!=4.21.0,!=4.21.1,!=4.21.2,!=4.21.3,!=4.21.4,!=4.21.5,<6.0.0dev,>=3.20.3 in /usr/local/lib/python3.11/dist-packages (from tensorflow) (3.20.3)\n",
      "Requirement already satisfied: requests<3,>=2.21.0 in /usr/local/lib/python3.11/dist-packages (from tensorflow) (2.32.3)\n",
      "Requirement already satisfied: setuptools in /usr/local/lib/python3.11/dist-packages (from tensorflow) (75.2.0)\n",
      "Requirement already satisfied: six>=1.12.0 in /usr/local/lib/python3.11/dist-packages (from tensorflow) (1.17.0)\n",
      "Requirement already satisfied: termcolor>=1.1.0 in /usr/local/lib/python3.11/dist-packages (from tensorflow) (3.0.1)\n",
      "Requirement already satisfied: typing-extensions>=3.6.6 in /usr/local/lib/python3.11/dist-packages (from tensorflow) (4.13.2)\n",
      "Requirement already satisfied: wrapt>=1.11.0 in /usr/local/lib/python3.11/dist-packages (from tensorflow) (1.17.2)\n",
      "Requirement already satisfied: grpcio<2.0,>=1.24.3 in /usr/local/lib/python3.11/dist-packages (from tensorflow) (1.72.0rc1)\n",
      "Requirement already satisfied: tensorboard<2.19,>=2.18 in /usr/local/lib/python3.11/dist-packages (from tensorflow) (2.18.0)\n",
      "Requirement already satisfied: keras>=3.5.0 in /usr/local/lib/python3.11/dist-packages (from tensorflow) (3.8.0)\n",
      "Requirement already satisfied: numpy<2.1.0,>=1.26.0 in /usr/local/lib/python3.11/dist-packages (from tensorflow) (1.26.4)\n",
      "Requirement already satisfied: h5py>=3.11.0 in /usr/local/lib/python3.11/dist-packages (from tensorflow) (3.13.0)\n",
      "Requirement already satisfied: ml-dtypes<0.5.0,>=0.4.0 in /usr/local/lib/python3.11/dist-packages (from tensorflow) (0.4.1)\n",
      "Requirement already satisfied: tensorflow-io-gcs-filesystem>=0.23.1 in /usr/local/lib/python3.11/dist-packages (from tensorflow) (0.37.1)\n",
      "Requirement already satisfied: wheel<1.0,>=0.23.0 in /usr/local/lib/python3.11/dist-packages (from astunparse>=1.6.0->tensorflow) (0.45.1)\n",
      "Requirement already satisfied: rich in /usr/local/lib/python3.11/dist-packages (from keras>=3.5.0->tensorflow) (14.0.0)\n",
      "Requirement already satisfied: namex in /usr/local/lib/python3.11/dist-packages (from keras>=3.5.0->tensorflow) (0.0.8)\n",
      "Requirement already satisfied: optree in /usr/local/lib/python3.11/dist-packages (from keras>=3.5.0->tensorflow) (0.14.1)\n",
      "Requirement already satisfied: mkl_fft in /usr/local/lib/python3.11/dist-packages (from numpy<2.1.0,>=1.26.0->tensorflow) (1.3.8)\n",
      "Requirement already satisfied: mkl_random in /usr/local/lib/python3.11/dist-packages (from numpy<2.1.0,>=1.26.0->tensorflow) (1.2.4)\n",
      "Requirement already satisfied: mkl_umath in /usr/local/lib/python3.11/dist-packages (from numpy<2.1.0,>=1.26.0->tensorflow) (0.1.1)\n",
      "Requirement already satisfied: mkl in /usr/local/lib/python3.11/dist-packages (from numpy<2.1.0,>=1.26.0->tensorflow) (2025.1.0)\n",
      "Requirement already satisfied: tbb4py in /usr/local/lib/python3.11/dist-packages (from numpy<2.1.0,>=1.26.0->tensorflow) (2022.1.0)\n",
      "Requirement already satisfied: mkl-service in /usr/local/lib/python3.11/dist-packages (from numpy<2.1.0,>=1.26.0->tensorflow) (2.4.1)\n",
      "Requirement already satisfied: charset-normalizer<4,>=2 in /usr/local/lib/python3.11/dist-packages (from requests<3,>=2.21.0->tensorflow) (3.4.2)\n",
      "Requirement already satisfied: idna<4,>=2.5 in /usr/local/lib/python3.11/dist-packages (from requests<3,>=2.21.0->tensorflow) (3.10)\n",
      "Requirement already satisfied: urllib3<3,>=1.21.1 in /usr/local/lib/python3.11/dist-packages (from requests<3,>=2.21.0->tensorflow) (2.4.0)\n",
      "Requirement already satisfied: certifi>=2017.4.17 in /usr/local/lib/python3.11/dist-packages (from requests<3,>=2.21.0->tensorflow) (2025.4.26)\n",
      "Requirement already satisfied: markdown>=2.6.8 in /usr/local/lib/python3.11/dist-packages (from tensorboard<2.19,>=2.18->tensorflow) (3.7)\n",
      "Requirement already satisfied: tensorboard-data-server<0.8.0,>=0.7.0 in /usr/local/lib/python3.11/dist-packages (from tensorboard<2.19,>=2.18->tensorflow) (0.7.2)\n",
      "Requirement already satisfied: werkzeug>=1.0.1 in /usr/local/lib/python3.11/dist-packages (from tensorboard<2.19,>=2.18->tensorflow) (3.1.3)\n",
      "Requirement already satisfied: MarkupSafe>=2.1.1 in /usr/local/lib/python3.11/dist-packages (from werkzeug>=1.0.1->tensorboard<2.19,>=2.18->tensorflow) (3.0.2)\n",
      "Requirement already satisfied: intel-openmp<2026,>=2024 in /usr/local/lib/python3.11/dist-packages (from mkl->numpy<2.1.0,>=1.26.0->tensorflow) (2024.2.0)\n",
      "Requirement already satisfied: tbb==2022.* in /usr/local/lib/python3.11/dist-packages (from mkl->numpy<2.1.0,>=1.26.0->tensorflow) (2022.1.0)\n",
      "Requirement already satisfied: tcmlib==1.* in /usr/local/lib/python3.11/dist-packages (from tbb==2022.*->mkl->numpy<2.1.0,>=1.26.0->tensorflow) (1.3.0)\n",
      "Requirement already satisfied: intel-cmplr-lib-rt in /usr/local/lib/python3.11/dist-packages (from mkl_umath->numpy<2.1.0,>=1.26.0->tensorflow) (2024.2.0)\n",
      "Requirement already satisfied: markdown-it-py>=2.2.0 in /usr/local/lib/python3.11/dist-packages (from rich->keras>=3.5.0->tensorflow) (3.0.0)\n",
      "Requirement already satisfied: pygments<3.0.0,>=2.13.0 in /usr/local/lib/python3.11/dist-packages (from rich->keras>=3.5.0->tensorflow) (2.19.1)\n",
      "Requirement already satisfied: intel-cmplr-lib-ur==2024.2.0 in /usr/local/lib/python3.11/dist-packages (from intel-openmp<2026,>=2024->mkl->numpy<2.1.0,>=1.26.0->tensorflow) (2024.2.0)\n",
      "Requirement already satisfied: mdurl~=0.1 in /usr/local/lib/python3.11/dist-packages (from markdown-it-py>=2.2.0->rich->keras>=3.5.0->tensorflow) (0.1.2)\n",
      "Note: you may need to restart the kernel to use updated packages.\n"
     ]
    }
   ],
   "source": [
    "pip install tensorflow"
   ]
  },
  {
   "cell_type": "code",
   "execution_count": 16,
   "metadata": {
    "execution": {
     "iopub.execute_input": "2025-06-02T00:49:28.656766Z",
     "iopub.status.busy": "2025-06-02T00:49:28.656438Z",
     "iopub.status.idle": "2025-06-02T00:49:28.662694Z",
     "shell.execute_reply": "2025-06-02T00:49:28.661544Z",
     "shell.execute_reply.started": "2025-06-02T00:49:28.656743Z"
    }
   },
   "outputs": [
    {
     "name": "stdout",
     "output_type": "stream",
     "text": [
      "(2, 2)\n"
     ]
    }
   ],
   "source": [
    "import tensorflow as tf\n",
    "\n",
    "tensor_tf = tf.constant([[1, 2],\n",
    "                         [3, 4]])\n",
    "\n",
    "print(tensor_tf.shape)"
   ]
  },
  {
   "cell_type": "code",
   "execution_count": 15,
   "metadata": {
    "execution": {
     "iopub.execute_input": "2025-06-02T00:49:10.705742Z",
     "iopub.status.busy": "2025-06-02T00:49:10.705032Z",
     "iopub.status.idle": "2025-06-02T00:49:16.746490Z",
     "shell.execute_reply": "2025-06-02T00:49:16.745024Z",
     "shell.execute_reply.started": "2025-06-02T00:49:10.705714Z"
    }
   },
   "outputs": [
    {
     "name": "stdout",
     "output_type": "stream",
     "text": [
      "torch.Size([2, 2])\n"
     ]
    }
   ],
   "source": [
    "import torch\n",
    "\n",
    "tensor_pt = torch.tensor([[1, 2],\n",
    "                          [3, 4]])\n",
    "\n",
    "\n",
    "print(tensor_pt.shape)"
   ]
  },
  {
   "cell_type": "markdown",
   "metadata": {},
   "source": [
    "# Exercice 1.7 : Opérations tensoriels"
   ]
  },
  {
   "cell_type": "code",
   "execution_count": 22,
   "metadata": {
    "execution": {
     "iopub.execute_input": "2025-06-02T01:03:44.165729Z",
     "iopub.status.busy": "2025-06-02T01:03:44.165371Z",
     "iopub.status.idle": "2025-06-02T01:03:44.177932Z",
     "shell.execute_reply": "2025-06-02T01:03:44.177021Z",
     "shell.execute_reply.started": "2025-06-02T01:03:44.165706Z"
    }
   },
   "outputs": [
    {
     "name": "stdout",
     "output_type": "stream",
     "text": [
      "Tenseur a:\n",
      " tensor([[1., 2., 3.],\n",
      "        [1., 0., 1.],\n",
      "        [9., 8., 7.]])\n",
      "\n",
      "Tenseur b:\n",
      " tensor([[2., 1., 3.],\n",
      "        [6., 5., 4.],\n",
      "        [3., 8., 1.]])\n",
      "\n",
      "Addition élément par élément:\n",
      " tensor([[ 3.,  3.,  6.],\n",
      "        [ 7.,  5.,  5.],\n",
      "        [12., 16.,  8.]])\n",
      "\n",
      "Multiplication matricielle:\n",
      " tensor([[ 23.,  35.,  14.],\n",
      "        [  5.,   9.,   4.],\n",
      "        [ 87., 105.,  66.]])\n",
      "\n",
      "Produit Hadamard:\n",
      " tensor([[ 2.,  2.,  9.],\n",
      "        [ 6.,  0.,  4.],\n",
      "        [27., 64.,  7.]])\n"
     ]
    }
   ],
   "source": [
    "import torch\n",
    "\n",
    "# Création des tenseurs 3x3\n",
    "a = torch.tensor([[1, 2, 3],\n",
    "                  [1, 0, 1],\n",
    "                  [9, 8, 7]], dtype=torch.float32)\n",
    "\n",
    "b = torch.tensor([[2, 1, 3],\n",
    "                  [6, 5, 4],\n",
    "                  [3, 8, 1]], dtype=torch.float32)\n",
    "\n",
    "# 1. Addition élément par élément\n",
    "addition = a + b\n",
    "\n",
    "# 2. Multiplication matricielle\n",
    "matmul = torch.matmul(a, b)\n",
    "\n",
    "# 3. Produit élément-wise (Hadamard)\n",
    "hadamard = a * b\n",
    "\n",
    "# Affichage des résultats\n",
    "print(\"Tenseur a:\\n\", a)\n",
    "print(\"\\nTenseur b:\\n\", b)\n",
    "print(\"\\nAddition élément par élément:\\n\", addition)\n",
    "print(\"\\nMultiplication matricielle:\\n\", matmul)\n",
    "print(\"\\nProduit Hadamard:\\n\", hadamard)"
   ]
  }
 ],
 "metadata": {
  "kaggle": {
   "accelerator": "none",
   "dataSources": [
    {
     "datasetId": 7569391,
     "sourceId": 12030491,
     "sourceType": "datasetVersion"
    }
   ],
   "dockerImageVersionId": 31040,
   "isGpuEnabled": false,
   "isInternetEnabled": true,
   "language": "python",
   "sourceType": "notebook"
  },
  "kernelspec": {
   "display_name": "Python 3 (ipykernel)",
   "language": "python",
   "name": "python3"
  },
  "language_info": {
   "codemirror_mode": {
    "name": "ipython",
    "version": 3
   },
   "file_extension": ".py",
   "mimetype": "text/x-python",
   "name": "python",
   "nbconvert_exporter": "python",
   "pygments_lexer": "ipython3",
   "version": "3.11.7"
  }
 },
 "nbformat": 4,
 "nbformat_minor": 4
}
